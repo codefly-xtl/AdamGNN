{
 "cells": [
  {
   "cell_type": "code",
   "execution_count": 1,
   "metadata": {},
   "outputs": [],
   "source": [
    "import numpy as np\n",
    "import math\n",
    "import random\n",
    "import time\n",
    "from copy import deepcopy\n",
    "from sklearn.metrics import f1_score\n",
    "from load_dataset import *\n",
    "from set_up_training import *\n",
    "from prepare_data import *\n",
    "from utils import *\n",
    "import sys\n",
    "from execution import NC_run\n",
    "# from model_dense import *\n",
    "from model import *\n",
    "\n",
    "import torch\n",
    "from torch import nn\n",
    "from torch.nn.parameter import Parameter\n",
    "import torch.nn.functional as F\n",
    "from tensorboardX import SummaryWriter\n",
    "\n",
    "import torch_geometric as tg\n",
    "\n",
    "# SEED = random.randint(1,10001)\n",
    "SEED = 4329\n",
    "random.seed(SEED)\n",
    "np.random.seed(SEED)\n",
    "torch.manual_seed(SEED)\n",
    "\n",
    "import warnings\n",
    "warnings.filterwarnings('ignore')\n",
    "# %matplotlib inline"
   ]
  },
  {
   "cell_type": "code",
   "execution_count": null,
   "metadata": {},
   "outputs": [],
   "source": []
  },
  {
   "cell_type": "code",
   "execution_count": 2,
   "metadata": {},
   "outputs": [],
   "source": [
    "data_name = 'karate' # emails cora citeseer pubmed cs phisic computers photo karate\n",
    "adam_lr = 0.01\n",
    "num_train = 1\n",
    "local_agg_gnn = 'GCN' # GCN SAGE GIN\n",
    "fitness_mode = 'both_c' # c: connect s: structure both_j both_c\n",
    "pooling_mode = 'att' # 'mean' mean max att\n",
    "num_levels = 2 # 1, 2, 3, 4\n",
    "encoder_layers = 1\n",
    "hid_dim = 64\n",
    "overlap = True\n",
    "cluster_range = 1 # 1\n",
    "drop_ratio = 0.5 # 0.9\n",
    "loss_mode = 'all' # nc recon kl all\n",
    "output_mode = 'ATT' # ATT GCN GAT MEAN MAX LINEAR LSTM NONE"
   ]
  },
  {
   "cell_type": "code",
   "execution_count": null,
   "metadata": {},
   "outputs": [],
   "source": []
  },
  {
   "cell_type": "code",
   "execution_count": 3,
   "metadata": {},
   "outputs": [
    {
     "name": "stdout",
     "output_type": "stream",
     "text": [
      "Parameters of Model are:\n",
      "data_name karate\n",
      "num_train 1\n",
      "num_epoch 2001\n",
      "batch_size None\n",
      "lr 0.01\n",
      "l2_regularization 0.0005\n",
      "drop_ratio 0.5\n",
      "local_agg_gnn GCN\n",
      "fitness_mode both_c\n",
      "pooling_mode att\n",
      "output_mode ATT\n",
      "num_levels 2\n",
      "encoder_layers 1\n",
      "hid_dim 64\n",
      "overlap True\n",
      "cluster_range 1\n",
      "loss_mode all\n",
      "verbose 1\n",
      "early_stop 100\n",
      "use_attribute True\n",
      "do_view True\n",
      "model_dir checkpoints/{}_Epoch{}_HR{:.4f}_NDCG{:.4f}.model\n",
      "alias test_model_2021_11_19_10_16\n",
      "use_cuda True\n"
     ]
    }
   ],
   "source": [
    "batch_size = None\n",
    "early_stop = 100\n",
    "use_attribute = True\n",
    "do_view = True\n",
    "\n",
    "#################Parameters for model#################\n",
    "loc_time = time.localtime()\n",
    "model_config={'data_name': data_name,\n",
    "              'num_train': num_train,\n",
    "              'num_epoch': 2001, # 2001\n",
    "              'batch_size': batch_size,\n",
    "              'lr': adam_lr, # 1e-2, 5e-3\n",
    "              'l2_regularization': 5e-4, #5e-4, 7e-4\n",
    "              'drop_ratio': drop_ratio,\n",
    "              'local_agg_gnn': local_agg_gnn,\n",
    "              'fitness_mode': fitness_mode,\n",
    "              'pooling_mode': pooling_mode,\n",
    "              'output_mode': output_mode,\n",
    "              'num_levels': num_levels,\n",
    "              'encoder_layers': encoder_layers,\n",
    "              'hid_dim': hid_dim,\n",
    "              'overlap': overlap,\n",
    "              'cluster_range': cluster_range,\n",
    "              'loss_mode': loss_mode,\n",
    "              'verbose': 1, \n",
    "              'early_stop': early_stop,\n",
    "              'use_attribute': use_attribute,\n",
    "              'do_view': do_view,\n",
    "              'model_dir':'checkpoints/{}_Epoch{}_HR{:.4f}_NDCG{:.4f}.model',\n",
    "              'alias':'test_model_{}_{}_{}_{}_{}'.format(loc_time[0], loc_time[1], loc_time[2], loc_time[3], loc_time[4])}\n",
    "\n",
    "if torch.cuda.is_available():\n",
    "    model_config['use_cuda'] = True\n",
    "else:\n",
    "    model_config['use_cuda'] = False\n",
    "\n",
    "print('Parameters of Model are:')\n",
    "for _ in model_config:\n",
    "    print(_, model_config[_])\n",
    "    \n",
    "# set up device\n",
    "device = torch.device('cuda' if model_config['use_cuda'] else 'cpu')\n",
    "model_config['device'] = device"
   ]
  },
  {
   "cell_type": "code",
   "execution_count": null,
   "metadata": {},
   "outputs": [],
   "source": []
  },
  {
   "cell_type": "code",
   "execution_count": 4,
   "metadata": {},
   "outputs": [
    {
     "name": "stdout",
     "output_type": "stream",
     "text": [
      "is reading karate dataset...\n"
     ]
    },
    {
     "ename": "TypeError",
     "evalue": "set_up_NC_training() got an unexpected keyword argument 'ls_data'",
     "output_type": "error",
     "traceback": [
      "\u001b[1;31m---------------------------------------------------------------------------\u001b[0m",
      "\u001b[1;31mTypeError\u001b[0m                                 Traceback (most recent call last)",
      "\u001b[1;32m<ipython-input-4-76101c2673cd>\u001b[0m in \u001b[0;36m<module>\u001b[1;34m()\u001b[0m\n\u001b[0;32m      6\u001b[0m ls_data = set_up_NC_training(ls_data=ls_data, \n\u001b[0;32m      7\u001b[0m                              \u001b[0mnum_train\u001b[0m\u001b[1;33m=\u001b[0m\u001b[0mnum_train\u001b[0m\u001b[1;33m,\u001b[0m\u001b[1;33m\u001b[0m\u001b[1;33m\u001b[0m\u001b[0m\n\u001b[1;32m----> 8\u001b[1;33m                              SEED=SEED)\n\u001b[0m\u001b[0;32m      9\u001b[0m \u001b[1;31m# prepare data\u001b[0m\u001b[1;33m\u001b[0m\u001b[1;33m\u001b[0m\u001b[1;33m\u001b[0m\u001b[0m\n\u001b[0;32m     10\u001b[0m ls_data = prepare_NC_data(ls_data=ls_data, \n",
      "\u001b[1;31mTypeError\u001b[0m: set_up_NC_training() got an unexpected keyword argument 'ls_data'"
     ]
    }
   ],
   "source": [
    "# load dataset\n",
    "ls_data = get_NC_dataset(dataset_name=data_name,\n",
    "                         use_features=use_attribute,\n",
    "                         SEED=SEED)\n",
    "# set up training mode\n",
    "ls_data = set_up_NC_training(ls_data=ls_data, \n",
    "                             num_train=num_train, \n",
    "                             SEED=SEED)\n",
    "# prepare data\n",
    "ls_data = prepare_NC_data(ls_data=ls_data, \n",
    "                          batch_size=batch_size, \n",
    "                          dense=False,\n",
    "                          device=device, \n",
    "                          SEED=SEED)\n",
    "\n",
    "norm = tg.transforms.NormalizeFeatures()\n",
    "for idx, data in enumerate(ls_data):\n",
    "    ls_data[idx] = norm(data)"
   ]
  },
  {
   "cell_type": "code",
   "execution_count": null,
   "metadata": {},
   "outputs": [],
   "source": []
  },
  {
   "cell_type": "markdown",
   "metadata": {},
   "source": [
    "## experiments"
   ]
  },
  {
   "cell_type": "code",
   "execution_count": null,
   "metadata": {},
   "outputs": [],
   "source": [
    "model = AdamGNN(config=model_config,\n",
    "              feat_dim=ls_data[0].x.shape[1],\n",
    "              out_dim=ls_data[0].y.unique().size(0))\n",
    "\n",
    "# release gpu memory\n",
    "torch.cuda.empty_cache()\n",
    "\n",
    "model = model.to(device)\n",
    "print(model)\n",
    "\n",
    "optimizer = torch.optim.Adam(model.parameters(), \n",
    "                 lr=model_config['lr'],\n",
    "                 weight_decay=model_config['l2_regularization'])"
   ]
  },
  {
   "cell_type": "code",
   "execution_count": null,
   "metadata": {},
   "outputs": [],
   "source": []
  },
  {
   "cell_type": "code",
   "execution_count": null,
   "metadata": {},
   "outputs": [],
   "source": [
    "NC_run(model=model, \n",
    "       optimizer=optimizer, \n",
    "       ls_data=ls_data, \n",
    "       model_config=model_config, \n",
    "       device=device, \n",
    "       SEED=SEED)"
   ]
  },
  {
   "cell_type": "code",
   "execution_count": null,
   "metadata": {},
   "outputs": [],
   "source": []
  },
  {
   "cell_type": "code",
   "execution_count": null,
   "metadata": {},
   "outputs": [],
   "source": []
  },
  {
   "cell_type": "code",
   "execution_count": null,
   "metadata": {},
   "outputs": [],
   "source": []
  }
 ],
 "metadata": {
  "kernelspec": {
   "display_name": "Python 3",
   "language": "python",
   "name": "python3"
  },
  "language_info": {
   "codemirror_mode": {
    "name": "ipython",
    "version": 3
   },
   "file_extension": ".py",
   "mimetype": "text/x-python",
   "name": "python",
   "nbconvert_exporter": "python",
   "pygments_lexer": "ipython3",
   "version": "3.7.9"
  }
 },
 "nbformat": 4,
 "nbformat_minor": 4
}
